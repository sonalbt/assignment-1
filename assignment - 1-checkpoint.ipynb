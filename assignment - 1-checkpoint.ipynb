{
 "cells": [
  {
   "cell_type": "markdown",
   "id": "998fcc08",
   "metadata": {},
   "source": [
    "                        ASSIGNMENT -1\n",
    "\n",
    "ANS - 1 :\n",
    "1. str1 = \"sonal\"\n",
    "2. my_list = [1,2,3,4]\n",
    "3. flt_1 = 30.25\n",
    "4. my_tuple = (1,2,3,4)\n"
   ]
  },
  {
   "cell_type": "markdown",
   "id": "08a226de",
   "metadata": {},
   "source": [
    "ANS - 2:\n",
    "1. string\n",
    "2. string\n",
    "3. list\n",
    "4. int\n"
   ]
  },
  {
   "cell_type": "markdown",
   "id": "5f461515",
   "metadata": {},
   "source": [
    "ANS - 3:\n",
    "1. / operator is used for division and it returns float value. for example, 5/2 returns 2.5\n",
    "2. % operator returns remainder in division. for example, 5%2 returns 1\n",
    "3. // operator returns integer part of answer in division. for example , 20//3 returns 6\n",
    "4. ** operator returns power. for ex. 2**3 returns 8\n"
   ]
  },
  {
   "cell_type": "code",
   "execution_count": null,
   "id": "f3880da1",
   "metadata": {},
   "outputs": [],
   "source": [
    "#ANS - 4 :\n",
    "my_list = [0, 'a', 1.0 ,\"and\", (2,4,6),[1,3,5], 24.76, 98, 99, \"end\"]    \n",
    "for i in my_list :\n",
    "    print (i)\n",
    "    print (type(i))"
   ]
  },
  {
   "cell_type": "code",
   "execution_count": null,
   "id": "1c63d586",
   "metadata": {},
   "outputs": [],
   "source": [
    "# ANS - 5 :\n",
    "a = int (input(\"enter value of a :\"))\n",
    "b = int (input(\"enter value of b :\"))\n",
    "original_a = a\n",
    "check = 0\n",
    "count = 0\n",
    "while check == 0 :\n",
    "    if a%b ==0 :\n",
    "        count = count + 1\n",
    "        \n",
    "        a = a/b\n",
    "    else :\n",
    "        check = 1\n",
    "if count > 0 :\n",
    "    print (f\"{original_a} is {count} times purely divisible by {b}\")\n",
    "else :\n",
    "    print (f\"{a}is not purely divisible by {b}\")"
   ]
  },
  {
   "cell_type": "code",
   "execution_count": null,
   "id": "8f472406",
   "metadata": {},
   "outputs": [],
   "source": [
    "# ANS - 6 :\n",
    "\n",
    "my_list = ( 1,2,3,4,5,6,7,8,9,10,11,12,13,14,15,16,17,18,19,20,21,22,23,24,25)\n",
    "for i in range (0,25):\n",
    "    if my_list[i] % 3 == 0 :\n",
    "        print(f\" {my_list[i]} is divisible by 3\")\n",
    "    else :\n",
    "        print(f\" {my_list[i]} is not divisible by 3\")\n"
   ]
  },
  {
   "cell_type": "markdown",
   "id": "74870545",
   "metadata": {},
   "source": [
    "ANS - 7 :\n",
    "* Mutable data types are those whose values can be changed after they have been created without creating a new copy of it. for example , list,set etc are mutable data type. we can append, remove or replace any element to it.\n",
    "\n",
    "* Immutable data types are those whose values can not be changed after they have been created without creating a new copy of it. for example , tuple ,string etc are immutable data type. we can not append, remove or replace any element to it.\n"
   ]
  }
 ],
 "metadata": {
  "kernelspec": {
   "display_name": "Python 3 (ipykernel)",
   "language": "python",
   "name": "python3"
  },
  "language_info": {
   "codemirror_mode": {
    "name": "ipython",
    "version": 3
   },
   "file_extension": ".py",
   "mimetype": "text/x-python",
   "name": "python",
   "nbconvert_exporter": "python",
   "pygments_lexer": "ipython3",
   "version": "3.9.12"
  }
 },
 "nbformat": 4,
 "nbformat_minor": 5
}
